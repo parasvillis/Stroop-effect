{
 "cells": [
  {
   "cell_type": "markdown",
   "metadata": {},
   "source": [
    "DEPENDENT VARIABLE:\n",
    "Reaction time of a Person.\n",
    "\n",
    "INDEPENDENT VARIABLE:\n",
    "Colour of ink(congruent and incongruent condition)\n",
    "\n",
    "\n",
    "HYPOTHESIS:\n",
    "H0(Null hypothesis) --- No significant difference in time on reading the congruent and incongruent i.e.  mu(congruent) = mu(incongruent)\n",
    "ha(Alternative hypothesis) --- Significant difference is there  i.e. mu(congruent) > mu(incongruent)\n",
    "\t\t\t\t\t     mu(congruent) < mu(incongruent)\n",
    "\t\t\t\t\t     mu(congruent) not equals mu(incongruent)\n",
    "\n",
    "\n",
    "HYPOTHESIS PERFORMED: A two tailed t-test\n",
    "WHY THIS TEST???\n",
    "This test is performed as we are comparing the means of two conditions(of congruency and incongruency) against reaction time.\n",
    "Also the stdev of population is unknown, that's why we are not using the z-score.\n",
    "The sample size is less than 30.\n",
    "The distributions are normal.\n",
    "\n",
    "\n",
    "\n",
    "\n",
    "\n",
    "REFERENCES:\n",
    "\n",
    "https://seaborn.pydata.org/tutorial/distributions.html\n",
    "\n",
    "https://en.wikipedia.org/wiki/Stroop_effect\n",
    "\n",
    "https://docs.scipy.org/doc/scipy/reference/tutorial/stats.html\n",
    "\n",
    "https://www.scipy.org/docs.html\n"
   ]
  },
  {
   "cell_type": "code",
   "execution_count": 3,
   "metadata": {},
   "outputs": [],
   "source": [
    "import numpy as np\n",
    "import pandas as pd\n",
    "from scipy import stats as sp\n",
    "import seaborn as sea\n",
    "import matplotlib.pyplot as plt"
   ]
  },
  {
   "cell_type": "code",
   "execution_count": 4,
   "metadata": {},
   "outputs": [
    {
     "data": {
      "text/html": [
       "<div>\n",
       "<style scoped>\n",
       "    .dataframe tbody tr th:only-of-type {\n",
       "        vertical-align: middle;\n",
       "    }\n",
       "\n",
       "    .dataframe tbody tr th {\n",
       "        vertical-align: top;\n",
       "    }\n",
       "\n",
       "    .dataframe thead th {\n",
       "        text-align: right;\n",
       "    }\n",
       "</style>\n",
       "<table border=\"1\" class=\"dataframe\">\n",
       "  <thead>\n",
       "    <tr style=\"text-align: right;\">\n",
       "      <th></th>\n",
       "      <th>Congruent</th>\n",
       "      <th>Incongruent</th>\n",
       "    </tr>\n",
       "  </thead>\n",
       "  <tbody>\n",
       "    <tr>\n",
       "      <th>0</th>\n",
       "      <td>12.079</td>\n",
       "      <td>19.278</td>\n",
       "    </tr>\n",
       "    <tr>\n",
       "      <th>1</th>\n",
       "      <td>16.791</td>\n",
       "      <td>18.741</td>\n",
       "    </tr>\n",
       "    <tr>\n",
       "      <th>2</th>\n",
       "      <td>9.564</td>\n",
       "      <td>21.214</td>\n",
       "    </tr>\n",
       "    <tr>\n",
       "      <th>3</th>\n",
       "      <td>8.630</td>\n",
       "      <td>15.687</td>\n",
       "    </tr>\n",
       "    <tr>\n",
       "      <th>4</th>\n",
       "      <td>14.669</td>\n",
       "      <td>22.803</td>\n",
       "    </tr>\n",
       "  </tbody>\n",
       "</table>\n",
       "</div>"
      ],
      "text/plain": [
       "   Congruent  Incongruent\n",
       "0     12.079       19.278\n",
       "1     16.791       18.741\n",
       "2      9.564       21.214\n",
       "3      8.630       15.687\n",
       "4     14.669       22.803"
      ]
     },
     "execution_count": 4,
     "metadata": {},
     "output_type": "execute_result"
    }
   ],
   "source": [
    "df = pd.read_csv('stroopdata.csv')\n",
    "df.head()"
   ]
  },
  {
   "cell_type": "code",
   "execution_count": 5,
   "metadata": {},
   "outputs": [
    {
     "name": "stdout",
     "output_type": "stream",
     "text": [
      "Mean of congruent test: 14.051\n",
      "Mean of incongruent test: 22.016\n",
      "Point Estimate(diff of means): 7.965\n",
      "Standard Deviation of congruent test: 3.4844\n",
      "Standard Deviation of incongruent test: 4.6961\n"
     ]
    }
   ],
   "source": [
    "print(\"Mean of congruent test: {0:.5}\".format(np.mean(df['Congruent'])))\n",
    "print(\"Mean of incongruent test: {0:.5}\".format(np.mean(df['Incongruent'])))\n",
    "print(\"Point Estimate(diff of means): {0:.5}\". format(22.016-14.051))\n",
    "print(\"Standard Deviation of congruent test: {0:.5}\".format(np.std(df['Congruent'])))\n",
    "print(\"Standard Deviation of incongruent test: {0:.5}\".format(np.std(df['Incongruent'])))"
   ]
  },
  {
   "cell_type": "code",
   "execution_count": 6,
   "metadata": {},
   "outputs": [
    {
     "name": "stdout",
     "output_type": "stream",
     "text": [
      "24\n",
      "24\n"
     ]
    }
   ],
   "source": [
    "print(df['Congruent'].size)             # Sample sizes\n",
    "print(df['Incongruent'].size)        "
   ]
  },
  {
   "cell_type": "code",
   "execution_count": 21,
   "metadata": {},
   "outputs": [
    {
     "data": {
      "image/png": "[encoded data removed]",
      "text/plain": [
       "<matplotlib.figure.Figure at 0x18b6e470dd8>"
      ]
     },
     "metadata": {},
     "output_type": "display_data"
    }
   ],
   "source": [
    "sea.distplot(df['Congruent'])             # The distributions are normal.\n",
    "plt.ylabel('Frequency')\n",
    "plt.title(\"Distribution of the given Congruent data\")\n",
    "plt.show()\n",
    "# Here we can also see the peak(represents mean) that is nearly 15"
   ]
  },
  {
   "cell_type": "code",
   "execution_count": 22,
   "metadata": {},
   "outputs": [
    {
     "data": {
      "text/plain": [
       "Text(0.5,1,'Distribution of the given Incongruent data')"
      ]
     },
     "execution_count": 22,
     "metadata": {},
     "output_type": "execute_result"
    },
    {
     "data": {
      "image/png": "[encoded data removed]",
      "text/plain": [
       "<matplotlib.figure.Figure at 0x18b6e496080>"
      ]
     },
     "metadata": {},
     "output_type": "display_data"
    }
   ],
   "source": [
    "sea.distplot(df['Incongruent'])            # This one is also normal and positively skewed a bit...\n",
    "plt.ylabel('Frequency')\n",
    "plt.title(\"Distribution of the given Incongruent data\")"
   ]
  },
  {
   "cell_type": "markdown",
   "metadata": {},
   "source": [
    "<b>T-Critical Value</b>"
   ]
  },
  {
   "cell_type": "code",
   "execution_count": 23,
   "metadata": {},
   "outputs": [
    {
     "data": {
      "text/plain": [
       "1.7138715277470473"
      ]
     },
     "execution_count": 23,
     "metadata": {},
     "output_type": "execute_result"
    }
   ],
   "source": [
    "sp.t.ppf(0.95, 23)            # 95% CI... Degree of freedom(n-1) = 23"
   ]
  },
  {
   "cell_type": "code",
   "execution_count": 24,
   "metadata": {},
   "outputs": [
    {
     "data": {
      "text/plain": [
       "'arr = np.array(df[\\'Congruent\\'] - df[\\'Incongruent\\'])\\nprint(arr)\\nprint(\"\\n\\nStandard Deviation of arr: {0:.5}\".format(np.std(arr)))'"
      ]
     },
     "execution_count": 24,
     "metadata": {},
     "output_type": "execute_result"
    }
   ],
   "source": [
    "\"\"\"arr = np.array(df['Congruent'] - df['Incongruent'])\n",
    "print(arr)\n",
    "print(\"\\n\\nStandard Deviation of arr: {0:.5}\".format(np.std(arr)))\"\"\""
   ]
  },
  {
   "cell_type": "code",
   "execution_count": 25,
   "metadata": {},
   "outputs": [
    {
     "name": "stdout",
     "output_type": "stream",
     "text": [
      "Standard deviation of Difference: 4.8648\n"
     ]
    }
   ],
   "source": [
    "df['Diff'] = df['Congruent'] - df['Incongruent']\n",
    "print(\"Standard deviation of Difference: {0:.5}\".format(df['Diff'].std(axis = 0)))"
   ]
  },
  {
   "cell_type": "code",
   "execution_count": 26,
   "metadata": {},
   "outputs": [
    {
     "data": {
      "text/plain": [
       "8.020961108891635"
      ]
     },
     "execution_count": 26,
     "metadata": {},
     "output_type": "execute_result"
    }
   ],
   "source": [
    "7.965/(4.8648 / np.sqrt(24))"
   ]
  },
  {
   "cell_type": "markdown",
   "metadata": {},
   "source": [
    "    8.02 is greater than our critica value(1.713)...we can reject the null hypothesis(H0)...AS EXPECTED"
   ]
  },
  {
   "cell_type": "markdown",
   "metadata": {},
   "source": [
    "We <b><em>reject the null hypothesis</em></b> that means there is a significant difference between the Congruent and Incongruent distributions."
   ]
  },
  {
   "cell_type": "code",
   "execution_count": null,
   "metadata": {},
   "outputs": [],
   "source": []
  }
 ],
 "metadata": {
  "kernelspec": {
   "display_name": "Python 3",
   "language": "python",
   "name": "python3"
  },
  "language_info": {
   "codemirror_mode": {
    "name": "ipython",
    "version": 3
   },
   "file_extension": ".py",
   "mimetype": "text/x-python",
   "name": "python",
   "nbconvert_exporter": "python",
   "pygments_lexer": "ipython3",
   "version": "3.6.4"
  }
 },
 "nbformat": 4,
 "nbformat_minor": 2
}
